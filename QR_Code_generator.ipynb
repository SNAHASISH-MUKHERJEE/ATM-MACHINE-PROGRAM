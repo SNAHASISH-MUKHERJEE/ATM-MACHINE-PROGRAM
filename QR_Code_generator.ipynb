{
  "nbformat": 4,
  "nbformat_minor": 0,
  "metadata": {
    "colab": {
      "provenance": [],
      "authorship_tag": "ABX9TyP0KuWabk74Kcow6qF5/vQP"
    },
    "kernelspec": {
      "name": "python3",
      "display_name": "Python 3"
    },
    "language_info": {
      "name": "python"
    }
  },
  "cells": [
    {
      "cell_type": "code",
      "source": [
        "import qrcode\n",
        "\n",
        "#Taking UPI ID as a input\n",
        "upi_id=input(\"enter your UPI ID=\")\n",
        "\n",
        "#upi: // pay?pa=IPI_ID&pn=NAME&am=amount&cu=currency&tn=message\n",
        "#defineing the payment URL based on the UPI ID and the payment app\n",
        "#you can modify these URl based on the payment apps you want to support\n",
        "\n",
        "\n",
        "phonepe_url=f'upi://pay?pa={upi_id}&pn=Recipent%20Name&mc=1234'\n",
        "paytm_url=f'upi://pay?pa={upi_id}&pn=Recipent%20Name&mc=1234'\n",
        "google_url=f'upi://pay?pa={upi_id}&pn=Recipent%20Name&mc=1234'\n",
        "\n",
        "\n",
        "#create QR code for each payment app\n",
        "phonePE_qr= qrcode.make(phonepe_url)\n",
        "paytm_qr= qrcode.make(paytm_url)\n",
        "googlepay_url_qr= qrcode.make(google_url)\n",
        "\n",
        "#save the qr code to image file(optional)\n",
        "\n",
        "phonePE_qr.save('phonepe_qr.png')\n",
        "paytm_qr.save('paytm_qr.png')\n",
        "googlepay_url_qr.save('google_pay_qr.png')\n",
        "\n",
        "#display the QR code(you may need to install PIL/PILLOW Library)\n",
        "\n",
        "\n",
        "phonePE_qr.show()\n",
        "paytm_qr.show()\n",
        "googlepay_url_qr.show()\n",
        "\n",
        "\n",
        "\n",
        "\n",
        "\n",
        "\n"
      ],
      "metadata": {
        "id": "LpRjsz1j5iAe",
        "colab": {
          "base_uri": "https://localhost:8080/"
        },
        "outputId": "16b78251-1268-4fa1-a9a8-362d00631a99"
      },
      "execution_count": 19,
      "outputs": [
        {
          "name": "stdout",
          "output_type": "stream",
          "text": [
            "enter your UPI ID=tdsxpress@okicici\n"
          ]
        }
      ]
    }
  ]
}